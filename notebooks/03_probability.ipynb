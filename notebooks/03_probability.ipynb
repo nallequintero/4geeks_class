{
 "cells": [
  {
   "cell_type": "markdown",
   "metadata": {},
   "source": [
    "# Probability\n",
    "## Introduction to Probabilities\n",
    "In 1814, Pierre-Simon Laplace wrote:  \n",
    "> Probability theory is nothing but common sense reduced to calculation. \n",
    "... [Probability] is thus simply a fraction whose numerator is the \n",
    "number of favorable cases and whose denominator is the number of all \n",
    "the cases possible ... when nothing leads us to expect that any one of \n",
    "these cases should occur more than any other.\n",
    "Laplace nailed it. To untangle a probability problem, all you have to do \n",
    "is define exactly what the cases are, and careful count the favorable \n",
    "and total cases. Let's be clear on our vocabulary words:\n",
    "- **Trial**\n",
    "A single occurrence with an outcome that is uncertain until we observe it.  \n",
    "*For example, rolling a single die.*\n",
    "- **Outcome**\n",
    "A possible result of a trial; one particular state of the world. What \n",
    "Laplace calls a **case.** *For example:* `4`.\n",
    "- **Sample Space**\n",
    "The set of all possible outcomes for the trial.   \n",
    "*For example,* `{1, 2, 3, 4, 5, 6}`.\n",
    "- **Event**\n",
    "A subset of the sample space, a set of outcomes that together have some \n",
    "property we are interested in.  \n",
    "*For example, the event \"even die roll\" is the set of outcomes* \n",
    "`{2, 4, 6}`.\n",
    "- **Probability**\n",
    "As Laplace said, the probability of an event with respect to a sample \n",
    "space is the \"number of favorable cases\" (outcomes from the sample space \n",
    "that are in the event) divided by the \"number of all the cases\" in the \n",
    "sample space (assuming \"nothing leads us to expect that any one of these \n",
    "cases should occur more than any other\"). Since this is a proper \n",
    "fraction, probability will always be a number between 0 (representing an \n",
    "impossible event) and 1 (representing a certain event).  \n",
    "*For example, the probability of an even die roll is 3/6 = 1/2.*"
   ]
  },
  {
   "cell_type": "code",
   "execution_count": 4,
   "metadata": {},
   "outputs": [],
   "source": [
    "import random #generador de numeros aleatorios\n",
    "import numpy as np\n",
    "import pandas as pd\n",
    "import matplotlib.pyplot as plot"
   ]
  },
  {
   "cell_type": "code",
   "execution_count": 5,
   "metadata": {},
   "outputs": [
    {
     "name": "stdout",
     "output_type": "stream",
     "text": [
      "1\n"
     ]
    }
   ],
   "source": [
    "# 1. generacion de lanzamientos de una moneda, sello = 0, cara = 1\n",
    "toss = random.randint(0,1)\n",
    "print(toss)"
   ]
  },
  {
   "cell_type": "code",
   "execution_count": 6,
   "metadata": {},
   "outputs": [
    {
     "name": "stdout",
     "output_type": "stream",
     "text": [
      "[1, 1, 0, 1, 1, 1, 1, 1, 1, 0]\n"
     ]
    }
   ],
   "source": [
    "# generación de lanzamiento de monedas, con una estructura de control (for) las secuencias de control son for, if, while.\n",
    "toss_results = []\n",
    "for i in range(10):\n",
    "    result = random.randint(0,1)\n",
    "    toss_results.append(result)\n",
    "print(toss_results)"
   ]
  },
  {
   "cell_type": "code",
   "execution_count": 7,
   "metadata": {},
   "outputs": [
    {
     "name": "stdout",
     "output_type": "stream",
     "text": [
      "[1, 0, 1, 0, 1, 1, 0, 1, 1, 1]\n"
     ]
    }
   ],
   "source": [
    "# generación de lanzamiento de monedas controlado\n",
    "random.seed(2024)\n",
    "toss_results = []\n",
    "for i in range(10):\n",
    "    result = random.randint(0,1)\n",
    "    toss_results.append(result)\n",
    "print(toss_results)"
   ]
  },
  {
   "cell_type": "code",
   "execution_count": 8,
   "metadata": {},
   "outputs": [
    {
     "data": {
      "text/plain": [
       "0.499507"
      ]
     },
     "execution_count": 8,
     "metadata": {},
     "output_type": "execute_result"
    }
   ],
   "source": [
    "# calcular la probabilidad de que salga cara en 10 lanzamientos de moneda\n",
    "toss_results = []\n",
    "for i in range(1000000):\n",
    "    result = random.randint(0,1)\n",
    "    toss_results.append(result)\n",
    "#print(toss_results)\n",
    "sum(toss_results)/len(toss_results)"
   ]
  },
  {
   "cell_type": "code",
   "execution_count": 9,
   "metadata": {},
   "outputs": [],
   "source": [
    "from fractions import Fraction"
   ]
  },
  {
   "cell_type": "code",
   "execution_count": 10,
   "metadata": {},
   "outputs": [
    {
     "data": {
      "text/plain": [
       "Fraction(1, 3)"
      ]
     },
     "execution_count": 10,
     "metadata": {},
     "output_type": "execute_result"
    }
   ],
   "source": [
    "Fraction(1,3)#representacion de una fraccion en python"
   ]
  },
  {
   "cell_type": "code",
   "execution_count": 11,
   "metadata": {},
   "outputs": [
    {
     "data": {
      "text/plain": [
       "{2, 4, 6}"
      ]
     },
     "execution_count": 11,
     "metadata": {},
     "output_type": "execute_result"
    }
   ],
   "source": [
    "# 2. Calcular la probabilidad de sacar par en un lanzamiento de dados\n",
    "even = {2,4,6}\n",
    "points = {1,2,3,4,5,6} #asumimos que el dado esta perfectamente balanceado\n",
    "set.intersection(even,points)"
   ]
  },
  {
   "cell_type": "code",
   "execution_count": 12,
   "metadata": {},
   "outputs": [],
   "source": [
    "def Pr(event,space):\n",
    "    return Fraction(len(set.intersection(event,space)), len(space))"
   ]
  },
  {
   "cell_type": "code",
   "execution_count": 13,
   "metadata": {},
   "outputs": [
    {
     "data": {
      "text/plain": [
       "Fraction(1, 2)"
      ]
     },
     "execution_count": 13,
     "metadata": {},
     "output_type": "execute_result"
    }
   ],
   "source": [
    "Pr(even,points)"
   ]
  },
  {
   "cell_type": "code",
   "execution_count": 14,
   "metadata": {},
   "outputs": [
    {
     "data": {
      "text/plain": [
       "Fraction(1, 3)"
      ]
     },
     "execution_count": 14,
     "metadata": {},
     "output_type": "execute_result"
    }
   ],
   "source": [
    "# calcular la probabilidad de obtener 5 o 6 en un lanzamiento de dados\n",
    "success = {5,6}\n",
    "points = {1,2,3,4,5,6}\n",
    "Pr(success,points)"
   ]
  },
  {
   "cell_type": "code",
   "execution_count": 15,
   "metadata": {},
   "outputs": [],
   "source": [
    "# This refers to a discrete sample space, so the probability is related to a discrete event"
   ]
  },
  {
   "cell_type": "code",
   "execution_count": 16,
   "metadata": {},
   "outputs": [],
   "source": [
    "# box 1 = [1,0,0,0] probabilidad de exito es de 1/4 = 0.25\n",
    "# box 2 = [1,1,0,0,0] probabilidad de exito es de 2/5 = 0.4\n",
    "# Cual caja escogio Ali? la caja 2"
   ]
  },
  {
   "cell_type": "code",
   "execution_count": 17,
   "metadata": {},
   "outputs": [
    {
     "data": {
      "text/plain": [
       "array([0])"
      ]
     },
     "execution_count": 17,
     "metadata": {},
     "output_type": "execute_result"
    }
   ],
   "source": [
    "box1 = np.array([1,0,0,0]) #este es un vector ([])\n",
    "np.random.choice(box1,1) #simula el evento de sacar una piedra"
   ]
  },
  {
   "cell_type": "code",
   "execution_count": 18,
   "metadata": {},
   "outputs": [
    {
     "data": {
      "text/plain": [
       "np.float64(0.2503)"
      ]
     },
     "execution_count": 18,
     "metadata": {},
     "output_type": "execute_result"
    }
   ],
   "source": [
    "trial = np.random.choice(box1, 100000)\n",
    "trial.mean()"
   ]
  },
  {
   "cell_type": "code",
   "execution_count": 19,
   "metadata": {},
   "outputs": [
    {
     "data": {
      "text/plain": [
       "np.float64(0.3904)"
      ]
     },
     "execution_count": 19,
     "metadata": {},
     "output_type": "execute_result"
    }
   ],
   "source": [
    "box2 = np.array([1,0,1,0,0])\n",
    "trial = np.random.choice(box2,10000)\n",
    "trial.mean()#aqui funciona mean porque solo hay dos resultados 0 y 1 y ademas el resultado exitoso es 1"
   ]
  },
  {
   "cell_type": "code",
   "execution_count": 20,
   "metadata": {},
   "outputs": [
    {
     "data": {
      "text/plain": [
       "0.3904"
      ]
     },
     "execution_count": 20,
     "metadata": {},
     "output_type": "execute_result"
    }
   ],
   "source": [
    "# cuando son mas de dos resultados se usa\n",
    "success = np.isin(trial,[1])\n",
    "probability = len(trial[success])/len(trial)\n",
    "probability"
   ]
  },
  {
   "cell_type": "code",
   "execution_count": 21,
   "metadata": {},
   "outputs": [
    {
     "data": {
      "text/plain": [
       "0.2"
      ]
     },
     "execution_count": 21,
     "metadata": {},
     "output_type": "execute_result"
    }
   ],
   "source": [
    "np.random.seed(2024)\n",
    "yankenpo = np.array([1,2,3])\n",
    "trial = np.random.choice(yankenpo,10)\n",
    "success = np.isin(trial,[2]) # isin nos retorna un vector de booleanos\n",
    "probability = len(trial[success])/len(trial)\n",
    "probability"
   ]
  },
  {
   "cell_type": "code",
   "execution_count": 22,
   "metadata": {},
   "outputs": [
    {
     "data": {
      "text/plain": [
       "array([1, 2, 3])"
      ]
     },
     "execution_count": 22,
     "metadata": {},
     "output_type": "execute_result"
    }
   ],
   "source": [
    "yankenpo"
   ]
  },
  {
   "cell_type": "code",
   "execution_count": 23,
   "metadata": {},
   "outputs": [
    {
     "data": {
      "text/plain": [
       "array([1, 3, 1, 1, 1, 3, 2, 2, 1, 3])"
      ]
     },
     "execution_count": 23,
     "metadata": {},
     "output_type": "execute_result"
    }
   ],
   "source": [
    "trial"
   ]
  },
  {
   "cell_type": "code",
   "execution_count": 24,
   "metadata": {},
   "outputs": [
    {
     "data": {
      "text/plain": [
       "array([False, False, False, False, False, False,  True,  True, False,\n",
       "       False])"
      ]
     },
     "execution_count": 24,
     "metadata": {},
     "output_type": "execute_result"
    }
   ],
   "source": [
    "success"
   ]
  },
  {
   "cell_type": "code",
   "execution_count": 25,
   "metadata": {},
   "outputs": [
    {
     "data": {
      "text/plain": [
       "array([2, 2])"
      ]
     },
     "execution_count": 25,
     "metadata": {},
     "output_type": "execute_result"
    }
   ],
   "source": [
    "trial[success] #es un filtro para retornar los valores true"
   ]
  },
  {
   "cell_type": "code",
   "execution_count": 26,
   "metadata": {},
   "outputs": [
    {
     "data": {
      "text/plain": [
       "array([21])"
      ]
     },
     "execution_count": 26,
     "metadata": {},
     "output_type": "execute_result"
    }
   ],
   "source": [
    "results =  np.array([14,22,21,15,18,23,19])\n",
    "success = np.isin(results,[21])\n",
    "results[success]"
   ]
  },
  {
   "cell_type": "code",
   "execution_count": 27,
   "metadata": {},
   "outputs": [],
   "source": [
    "# 3. El siguiente problema muestra la probabilidad condicional\n",
    "# cual es la probabilidad de sacar un As en una segunda extraccion si en la primera ya saque un As\n",
    "# cuantos Ases hay en una baraja? 4\n",
    "# cuantos nipes hay en una baraja? 52\n",
    "# cual es la probabilidad de sacar un As en la primera extraccion, 4/52 = 1/13\n",
    "# si ya saque un As de la baraja cuantos nipes quedan? 51 y 3 Ases\n",
    "# en una segunda extraccion la probabilidad de sacar un As es: Pr(sacar As en segunda extraccion|sacar As en primera extraccion)\n",
    "# por lo tanto es una probabilidad condicionada al evento de haber sacado un As en la primera extraccion \n",
    "# la formula es Pr = 3/51\n",
    "# Pr(A and B) =  Pr(A) * Pr(B|A)\n",
    "# si A y B son idendependientes entonces Pr(A|B)=Pr(A)\n",
    "# Pr( A and B and C) = Pr(A)*Pr(B|A)*Pr(C|A and B)*Regla de la cadena\n",
    "# Pr (A or B) = Pr(A) + Pr(B) - Pr(A and B)"
   ]
  },
  {
   "cell_type": "code",
   "execution_count": 28,
   "metadata": {},
   "outputs": [
    {
     "data": {
      "text/plain": [
       "0.06400000000000002"
      ]
     },
     "execution_count": 28,
     "metadata": {},
     "output_type": "execute_result"
    }
   ],
   "source": [
    "# en un avion  hay 3 bombas, cada bomba  tiene 0.4 probabilidades de explotar, cual es la probabilidad de que la segunda bomba explote\n",
    "# cual es la probabilidad que las 3 bombas exploten a la vez\n",
    "0.4*0.4*0.4"
   ]
  },
  {
   "cell_type": "code",
   "execution_count": 33,
   "metadata": {},
   "outputs": [],
   "source": [
    "# cual es la probabilidad de que en una sala con 10 personas, dos cumplan años el mismo dia. Y en una sala con 20 personas, \n",
    "# con 30 personas, y en una con 50?\n",
    "def same_birthday(n):\n",
    "    days =  np.arange(1,366) # hago la lista\n",
    "    bday = np.random.choice(days,n) # escojo al azar 'n'\n",
    "    return np.any(np.bincount(bday)>1) # .any me dice si alguno es mayor que 1 "
   ]
  },
  {
   "cell_type": "code",
   "execution_count": 38,
   "metadata": {},
   "outputs": [
    {
     "data": {
      "text/plain": [
       "np.True_"
      ]
     },
     "execution_count": 38,
     "metadata": {},
     "output_type": "execute_result"
    }
   ],
   "source": [
    "same_birthday(10)"
   ]
  },
  {
   "cell_type": "code",
   "execution_count": 41,
   "metadata": {},
   "outputs": [
    {
     "data": {
      "text/plain": [
       "0.708"
      ]
     },
     "execution_count": 41,
     "metadata": {},
     "output_type": "execute_result"
    }
   ],
   "source": [
    "counter = 0\n",
    "for i in range(10000):\n",
    "    if same_birthday(30):\n",
    "        counter += 1\n",
    "counter/10000"
   ]
  },
  {
   "cell_type": "code",
   "execution_count": 42,
   "metadata": {},
   "outputs": [
    {
     "data": {
      "text/plain": [
       "0.969"
      ]
     },
     "execution_count": 42,
     "metadata": {},
     "output_type": "execute_result"
    }
   ],
   "source": [
    "counter = 0\n",
    "for i in range(10000):\n",
    "    if same_birthday(50):\n",
    "        counter += 1\n",
    "counter/10000"
   ]
  }
 ],
 "metadata": {
  "kernelspec": {
   "display_name": ".venv",
   "language": "python",
   "name": "python3"
  },
  "language_info": {
   "codemirror_mode": {
    "name": "ipython",
    "version": 3
   },
   "file_extension": ".py",
   "mimetype": "text/x-python",
   "name": "python",
   "nbconvert_exporter": "python",
   "pygments_lexer": "ipython3",
   "version": "3.12.1"
  }
 },
 "nbformat": 4,
 "nbformat_minor": 2
}
