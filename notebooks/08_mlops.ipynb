{
 "cells": [
  {
   "cell_type": "markdown",
   "metadata": {},
   "source": [
    "# Lesson 8: MLOPS"
   ]
  },
  {
   "cell_type": "code",
   "execution_count": 2,
   "metadata": {},
   "outputs": [],
   "source": [
    "# El shell de un OS (sistema operativo), reconoce dos entidades el archivo y el directorio. Estos pueden ser visibles u ocultos\n",
    "# Los comandos en shell suelen tener el componente del nombre del comando y las opciones que se denotan con un guion simple \"-\"\n",
    "# o un guion \"--\", 'pwd' nos dice donde estamos parados\n",
    "# 'echo' para imprimir en la consola\n",
    "# Comando 'cat' abre y muestra un archivo de texto\n",
    "# Comando 'tail' nos muestra las ultimas lineas de un archivo, si quiero ver un numero de lineas especificas coloco -8\n",
    "# Comando 'head' nos muestra las primeras\n",
    "# Con 'touch' creamos un archivo nuevo\n",
    "# 'mkdir' crea un directorio\n",
    "# El comando > significa volcar en un txt el contenido hacia el archivo, si >> significa seguir escribiendo sobre el archivo\n",
    "# mkdir -p crea carpetas anidadas, se puede crear subcarpetas\n",
    "# 'tree' nos muestra la estructura de las carpetas\n",
    "# 'cp' hago una copia del archivo \n",
    "# 'mv' mueve el archivo\n",
    "# 'cd' nos hace movernos de directorio, recordemos que . significa donde estoy en este momento, y .. significa un nivel arriba\n",
    "# El comando 'ln -s' crea un enlace simbolico o \"alias\" que hace referencia a un archivo\n",
    "# El comando \"rm\" permite borrar directorios y archivos. En caso un directorio contenga mas directorio o \n",
    "# mas archivos debemos utilizar comandos recursivos que se invoca con '-r ' y si queremos forzar el borrado \"-f\"\n",
    "# Este comando es muy poderoso\n",
    "# comando \"grep\" permite capturar patrones de texto en un archivo\n",
    "# comando \"find\" permite encontrar o buscar archivos y directorios\n",
    "\n",
    "\n",
    "\n"
   ]
  },
  {
   "cell_type": "markdown",
   "metadata": {},
   "source": []
  }
 ],
 "metadata": {
  "kernelspec": {
   "display_name": ".venv",
   "language": "python",
   "name": "python3"
  },
  "language_info": {
   "codemirror_mode": {
    "name": "ipython",
    "version": 3
   },
   "file_extension": ".py",
   "mimetype": "text/x-python",
   "name": "python",
   "nbconvert_exporter": "python",
   "pygments_lexer": "ipython3",
   "version": "3.12.1"
  }
 },
 "nbformat": 4,
 "nbformat_minor": 2
}
