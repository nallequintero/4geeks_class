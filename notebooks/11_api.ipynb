{
 "cells": [
  {
   "cell_type": "markdown",
   "metadata": {},
   "source": [
    "# Lesson 11: API REQUESTS"
   ]
  },
  {
   "cell_type": "code",
   "execution_count": 28,
   "metadata": {},
   "outputs": [],
   "source": [
    "import pandas as pd\n",
    "import requests \n",
    "import numpy as np\n",
    "import json\n",
    "from dotenv import load_dotenv\n",
    "import matplotlib.pyplot as plt\n",
    "from langchain_groq import ChatGroq\n",
    "import os"
   ]
  },
  {
   "cell_type": "code",
   "execution_count": 4,
   "metadata": {},
   "outputs": [],
   "source": [
    "# Comando curl en bash  es para comunicarnos con la API, se comunica a traves de la url y los argumentos, \n",
    "# que van despues del signo ?, por ejemplo:\n",
    "# curl \"https://api.open-meteo.com/v1/forecast?latitude=52.52&longitude=13.41&current=temperature_2m,wind_speed_10m&hourly=temperature_2m,relative_humidity_2m,wind_speed_10m\"\n",
    "# El formato de repuesta de la comunicacion con un API es un JSON, se puede traducir a un diccionario"
   ]
  },
  {
   "cell_type": "code",
   "execution_count": 5,
   "metadata": {},
   "outputs": [
    {
     "name": "stdout",
     "output_type": "stream",
     "text": [
      "{'name': 'Nallely', 'LastName': 'Quintero', 'siblings': 1, 'Hobbies': ['reading', 'walks', 'draw']}\n"
     ]
    }
   ],
   "source": [
    "# Crear diccionario con Name, LastName, siblings, hobbies\n",
    "diccionario = {\n",
    "    \"name\": \"Nallely\",\n",
    "    \"LastName\":\"Quintero\",\n",
    "    \"siblings\": 1,\n",
    "    \"Hobbies\":[\"reading\", \"walks\", \"draw\"]}\n",
    "\n",
    "print(diccionario)"
   ]
  },
  {
   "cell_type": "code",
   "execution_count": 6,
   "metadata": {},
   "outputs": [
    {
     "data": {
      "text/plain": [
       "'{\"name\": \"Nallely\", \"LastName\": \"Quintero\", \"siblings\": 1, \"Hobbies\": [\"reading\", \"walks\", \"draw\"]}'"
      ]
     },
     "execution_count": 6,
     "metadata": {},
     "output_type": "execute_result"
    }
   ],
   "source": [
    "json.dumps(diccionario)"
   ]
  },
  {
   "cell_type": "code",
   "execution_count": 7,
   "metadata": {},
   "outputs": [
    {
     "data": {
      "text/plain": [
       "'{\"Hobbies\": [\"reading\", \"walks\", \"draw\"], \"LastName\": \"Quintero\", \"name\": \"Nallely\", \"siblings\": 1}'"
      ]
     },
     "execution_count": 7,
     "metadata": {},
     "output_type": "execute_result"
    }
   ],
   "source": [
    "json.dumps(diccionario, sort_keys=True)"
   ]
  },
  {
   "cell_type": "code",
   "execution_count": 8,
   "metadata": {},
   "outputs": [
    {
     "data": {
      "text/plain": [
       "{'name': 'John', 'LastName': 'Connor', 'siblings': 0}"
      ]
     },
     "execution_count": 8,
     "metadata": {},
     "output_type": "execute_result"
    }
   ],
   "source": [
    "# Proceso inverso, respuesta JSON a diccionario\n",
    "result = '{\"name\":\"John\", \"LastName\":\"Connor\", \"siblings\":0}'\n",
    "result_dict = json.loads(result)\n",
    "result_dict"
   ]
  },
  {
   "cell_type": "code",
   "execution_count": 9,
   "metadata": {},
   "outputs": [],
   "source": [
    "url = \"https://api.open-meteo.com/v1/forecast\"\n",
    "params = {\n",
    "    \"latitude\":52.52,\n",
    "    \"longitude\":13.41,\n",
    "    \"current\": \"temperature_2m,wind_speed_10m\",\n",
    "    \"hourly\":  \"temperature_2m,relative_humidity_2m,wind_speed_10m\"\n",
    "}"
   ]
  },
  {
   "cell_type": "code",
   "execution_count": 10,
   "metadata": {},
   "outputs": [],
   "source": [
    "api_call = requests.get(url, params=params)"
   ]
  },
  {
   "cell_type": "code",
   "execution_count": 11,
   "metadata": {},
   "outputs": [
    {
     "data": {
      "text/plain": [
       "<Response [200]>"
      ]
     },
     "execution_count": 11,
     "metadata": {},
     "output_type": "execute_result"
    }
   ],
   "source": [
    "api_call"
   ]
  },
  {
   "cell_type": "code",
   "execution_count": 12,
   "metadata": {},
   "outputs": [
    {
     "name": "stdout",
     "output_type": "stream",
     "text": [
      "{'latitude': 52.52, 'longitude': 13.419998, 'generationtime_ms': 0.20003318786621094, 'utc_offset_seconds': 0, 'timezone': 'GMT', 'timezone_abbreviation': 'GMT', 'elevation': 38.0, 'current_units': {'time': 'iso8601', 'interval': 'seconds', 'temperature_2m': '°C', 'wind_speed_10m': 'km/h'}, 'current': {'time': '2025-01-28T03:15', 'interval': 900, 'temperature_2m': 6.8, 'wind_speed_10m': 9.7}, 'hourly_units': {'time': 'iso8601', 'temperature_2m': '°C', 'relative_humidity_2m': '%', 'wind_speed_10m': 'km/h'}, 'hourly': {'time': ['2025-01-28T00:00', '2025-01-28T01:00', '2025-01-28T02:00', '2025-01-28T03:00', '2025-01-28T04:00', '2025-01-28T05:00', '2025-01-28T06:00', '2025-01-28T07:00', '2025-01-28T08:00', '2025-01-28T09:00', '2025-01-28T10:00', '2025-01-28T11:00', '2025-01-28T12:00', '2025-01-28T13:00', '2025-01-28T14:00', '2025-01-28T15:00', '2025-01-28T16:00', '2025-01-28T17:00', '2025-01-28T18:00', '2025-01-28T19:00', '2025-01-28T20:00', '2025-01-28T21:00', '2025-01-28T22:00', '2025-01-28T23:00', '2025-01-29T00:00', '2025-01-29T01:00', '2025-01-29T02:00', '2025-01-29T03:00', '2025-01-29T04:00', '2025-01-29T05:00', '2025-01-29T06:00', '2025-01-29T07:00', '2025-01-29T08:00', '2025-01-29T09:00', '2025-01-29T10:00', '2025-01-29T11:00', '2025-01-29T12:00', '2025-01-29T13:00', '2025-01-29T14:00', '2025-01-29T15:00', '2025-01-29T16:00', '2025-01-29T17:00', '2025-01-29T18:00', '2025-01-29T19:00', '2025-01-29T20:00', '2025-01-29T21:00', '2025-01-29T22:00', '2025-01-29T23:00', '2025-01-30T00:00', '2025-01-30T01:00', '2025-01-30T02:00', '2025-01-30T03:00', '2025-01-30T04:00', '2025-01-30T05:00', '2025-01-30T06:00', '2025-01-30T07:00', '2025-01-30T08:00', '2025-01-30T09:00', '2025-01-30T10:00', '2025-01-30T11:00', '2025-01-30T12:00', '2025-01-30T13:00', '2025-01-30T14:00', '2025-01-30T15:00', '2025-01-30T16:00', '2025-01-30T17:00', '2025-01-30T18:00', '2025-01-30T19:00', '2025-01-30T20:00', '2025-01-30T21:00', '2025-01-30T22:00', '2025-01-30T23:00', '2025-01-31T00:00', '2025-01-31T01:00', '2025-01-31T02:00', '2025-01-31T03:00', '2025-01-31T04:00', '2025-01-31T05:00', '2025-01-31T06:00', '2025-01-31T07:00', '2025-01-31T08:00', '2025-01-31T09:00', '2025-01-31T10:00', '2025-01-31T11:00', '2025-01-31T12:00', '2025-01-31T13:00', '2025-01-31T14:00', '2025-01-31T15:00', '2025-01-31T16:00', '2025-01-31T17:00', '2025-01-31T18:00', '2025-01-31T19:00', '2025-01-31T20:00', '2025-01-31T21:00', '2025-01-31T22:00', '2025-01-31T23:00', '2025-02-01T00:00', '2025-02-01T01:00', '2025-02-01T02:00', '2025-02-01T03:00', '2025-02-01T04:00', '2025-02-01T05:00', '2025-02-01T06:00', '2025-02-01T07:00', '2025-02-01T08:00', '2025-02-01T09:00', '2025-02-01T10:00', '2025-02-01T11:00', '2025-02-01T12:00', '2025-02-01T13:00', '2025-02-01T14:00', '2025-02-01T15:00', '2025-02-01T16:00', '2025-02-01T17:00', '2025-02-01T18:00', '2025-02-01T19:00', '2025-02-01T20:00', '2025-02-01T21:00', '2025-02-01T22:00', '2025-02-01T23:00', '2025-02-02T00:00', '2025-02-02T01:00', '2025-02-02T02:00', '2025-02-02T03:00', '2025-02-02T04:00', '2025-02-02T05:00', '2025-02-02T06:00', '2025-02-02T07:00', '2025-02-02T08:00', '2025-02-02T09:00', '2025-02-02T10:00', '2025-02-02T11:00', '2025-02-02T12:00', '2025-02-02T13:00', '2025-02-02T14:00', '2025-02-02T15:00', '2025-02-02T16:00', '2025-02-02T17:00', '2025-02-02T18:00', '2025-02-02T19:00', '2025-02-02T20:00', '2025-02-02T21:00', '2025-02-02T22:00', '2025-02-02T23:00', '2025-02-03T00:00', '2025-02-03T01:00', '2025-02-03T02:00', '2025-02-03T03:00', '2025-02-03T04:00', '2025-02-03T05:00', '2025-02-03T06:00', '2025-02-03T07:00', '2025-02-03T08:00', '2025-02-03T09:00', '2025-02-03T10:00', '2025-02-03T11:00', '2025-02-03T12:00', '2025-02-03T13:00', '2025-02-03T14:00', '2025-02-03T15:00', '2025-02-03T16:00', '2025-02-03T17:00', '2025-02-03T18:00', '2025-02-03T19:00', '2025-02-03T20:00', '2025-02-03T21:00', '2025-02-03T22:00', '2025-02-03T23:00'], 'temperature_2m': [8.4, 7.9, 7.5, 6.9, 6.7, 6.3, 6.0, 5.7, 5.8, 6.6, 7.4, 8.1, 8.6, 8.4, 8.2, 7.8, 7.4, 7.1, 6.8, 6.6, 6.6, 6.2, 5.5, 5.2, 4.9, 4.7, 4.6, 4.4, 4.4, 4.3, 4.3, 4.5, 4.8, 5.6, 6.4, 7.3, 8.5, 9.4, 9.2, 8.6, 8.1, 7.4, 7.2, 6.7, 6.4, 6.1, 5.4, 5.0, 4.4, 4.6, 3.8, 3.3, 2.7, 2.5, 2.4, 2.6, 3.1, 3.9, 5.1, 6.1, 7.2, 7.7, 8.1, 7.9, 7.3, 6.8, 6.5, 6.2, 5.8, 5.6, 5.5, 5.4, 5.3, 4.9, 4.5, 4.1, 3.7, 3.3, 3.1, 3.4, 3.9, 4.5, 4.9, 5.4, 5.7, 5.8, 5.7, 5.4, 4.8, 4.0, 3.3, 2.6, 2.0, 1.5, 1.2, 1.0, 0.8, 0.7, 0.5, 0.4, 0.3, 0.1, 0.1, 0.2, 0.5, 0.9, 1.5, 2.3, 2.9, 3.4, 3.8, 3.9, 3.7, 3.3, 3.0, 1.1, 0.7, 0.4, 0.1, -0.3, -0.5, -0.7, -0.8, -0.9, -1.2, -1.5, -1.7, -1.7, -1.5, -1.0, -0.0, 1.2, 2.1, 2.4, 2.3, 2.1, 1.8, 1.3, 0.8, 0.6, 0.4, 0.2, 0.0, -0.1, -0.3, -0.6, -0.8, -1.0, -1.2, -1.4, -1.5, -1.4, -1.1, -0.6, 0.2, 1.3, 2.0, 2.2, 2.1, 1.9, 1.6, 1.3, 0.9, 0.7, 0.6, 0.5, 0.4, 0.3], 'relative_humidity_2m': [86, 86, 86, 88, 89, 89, 90, 91, 90, 86, 83, 80, 79, 83, 86, 89, 92, 94, 94, 94, 92, 94, 94, 92, 91, 90, 90, 90, 89, 89, 89, 88, 86, 84, 82, 78, 71, 64, 62, 64, 68, 75, 72, 79, 81, 81, 86, 88, 90, 86, 89, 88, 89, 89, 88, 87, 84, 79, 74, 71, 66, 65, 64, 67, 71, 74, 75, 76, 80, 82, 83, 83, 84, 85, 87, 89, 92, 94, 96, 96, 95, 92, 87, 80, 75, 73, 73, 74, 77, 81, 85, 87, 89, 90, 91, 91, 91, 91, 92, 92, 92, 93, 93, 93, 93, 92, 91, 90, 89, 87, 85, 84, 85, 88, 90, 83, 84, 85, 85, 85, 85, 85, 84, 84, 84, 85, 85, 85, 84, 82, 78, 73, 70, 70, 73, 75, 77, 78, 80, 81, 82, 83, 84, 84, 85, 86, 88, 89, 90, 92, 92, 92, 91, 88, 82, 74, 69, 68, 70, 72, 73, 73, 74, 76, 78, 79, 79, 78], 'wind_speed_10m': [11.4, 8.4, 10.3, 9.7, 9.4, 10.1, 8.6, 8.9, 9.1, 7.4, 6.1, 4.4, 6.0, 4.8, 4.6, 4.1, 5.5, 4.9, 5.5, 5.5, 7.1, 7.3, 7.8, 8.7, 9.1, 9.4, 10.2, 11.0, 11.7, 11.7, 11.7, 12.7, 12.6, 14.9, 15.3, 16.1, 17.3, 19.2, 18.5, 17.5, 13.2, 14.8, 14.4, 11.2, 12.2, 10.7, 10.4, 10.1, 8.9, 7.4, 8.0, 7.0, 7.2, 6.8, 6.5, 6.2, 7.0, 7.4, 8.1, 7.9, 9.0, 9.0, 8.7, 7.0, 6.1, 6.5, 6.2, 5.5, 4.8, 4.6, 4.3, 4.0, 3.6, 4.0, 4.0, 4.4, 4.9, 5.5, 6.0, 6.3, 6.6, 7.1, 7.4, 8.3, 8.7, 9.2, 9.4, 9.0, 7.4, 5.1, 4.5, 4.2, 4.1, 4.0, 4.0, 4.5, 4.8, 5.2, 5.7, 5.7, 5.6, 5.1, 4.7, 4.7, 4.4, 4.4, 4.3, 4.3, 4.7, 4.8, 4.7, 5.0, 5.0, 4.7, 4.4, 4.0, 4.0, 4.1, 3.8, 3.6, 3.2, 3.2, 2.9, 2.9, 2.9, 2.9, 2.9, 2.5, 2.2, 1.8, 2.1, 2.8, 3.1, 2.6, 1.9, 1.8, 1.8, 1.6, 1.8, 1.5, 0.8, 0.8, 1.0, 1.6, 2.3, 2.4, 2.3, 2.5, 2.3, 1.9, 2.2, 2.5, 2.9, 3.2, 3.3, 3.9, 3.9, 3.1, 1.8, 1.3, 1.9, 3.0, 3.9, 4.6, 5.9, 6.9, 7.9, 8.4]}}\n"
     ]
    }
   ],
   "source": [
    "if api_call.status_code==200:\n",
    "    data = api_call.json()\n",
    "    print(data)\n",
    "else:\n",
    "    print(f\"failed: {api_call.status_code}\")"
   ]
  },
  {
   "cell_type": "code",
   "execution_count": 13,
   "metadata": {},
   "outputs": [
    {
     "data": {
      "text/plain": [
       "dict"
      ]
     },
     "execution_count": 13,
     "metadata": {},
     "output_type": "execute_result"
    }
   ],
   "source": [
    "type(data)"
   ]
  },
  {
   "cell_type": "code",
   "execution_count": 14,
   "metadata": {},
   "outputs": [
    {
     "data": {
      "text/plain": [
       "52.52"
      ]
     },
     "execution_count": 14,
     "metadata": {},
     "output_type": "execute_result"
    }
   ],
   "source": [
    "#traer la latitud y longitud\n",
    "data[\"latitude\"]"
   ]
  },
  {
   "cell_type": "code",
   "execution_count": 15,
   "metadata": {},
   "outputs": [
    {
     "data": {
      "text/plain": [
       "{'time': ['2025-01-28T00:00',\n",
       "  '2025-01-28T01:00',\n",
       "  '2025-01-28T02:00',\n",
       "  '2025-01-28T03:00',\n",
       "  '2025-01-28T04:00',\n",
       "  '2025-01-28T05:00',\n",
       "  '2025-01-28T06:00',\n",
       "  '2025-01-28T07:00',\n",
       "  '2025-01-28T08:00',\n",
       "  '2025-01-28T09:00',\n",
       "  '2025-01-28T10:00',\n",
       "  '2025-01-28T11:00',\n",
       "  '2025-01-28T12:00',\n",
       "  '2025-01-28T13:00',\n",
       "  '2025-01-28T14:00',\n",
       "  '2025-01-28T15:00',\n",
       "  '2025-01-28T16:00',\n",
       "  '2025-01-28T17:00',\n",
       "  '2025-01-28T18:00',\n",
       "  '2025-01-28T19:00',\n",
       "  '2025-01-28T20:00',\n",
       "  '2025-01-28T21:00',\n",
       "  '2025-01-28T22:00',\n",
       "  '2025-01-28T23:00',\n",
       "  '2025-01-29T00:00',\n",
       "  '2025-01-29T01:00',\n",
       "  '2025-01-29T02:00',\n",
       "  '2025-01-29T03:00',\n",
       "  '2025-01-29T04:00',\n",
       "  '2025-01-29T05:00',\n",
       "  '2025-01-29T06:00',\n",
       "  '2025-01-29T07:00',\n",
       "  '2025-01-29T08:00',\n",
       "  '2025-01-29T09:00',\n",
       "  '2025-01-29T10:00',\n",
       "  '2025-01-29T11:00',\n",
       "  '2025-01-29T12:00',\n",
       "  '2025-01-29T13:00',\n",
       "  '2025-01-29T14:00',\n",
       "  '2025-01-29T15:00',\n",
       "  '2025-01-29T16:00',\n",
       "  '2025-01-29T17:00',\n",
       "  '2025-01-29T18:00',\n",
       "  '2025-01-29T19:00',\n",
       "  '2025-01-29T20:00',\n",
       "  '2025-01-29T21:00',\n",
       "  '2025-01-29T22:00',\n",
       "  '2025-01-29T23:00',\n",
       "  '2025-01-30T00:00',\n",
       "  '2025-01-30T01:00',\n",
       "  '2025-01-30T02:00',\n",
       "  '2025-01-30T03:00',\n",
       "  '2025-01-30T04:00',\n",
       "  '2025-01-30T05:00',\n",
       "  '2025-01-30T06:00',\n",
       "  '2025-01-30T07:00',\n",
       "  '2025-01-30T08:00',\n",
       "  '2025-01-30T09:00',\n",
       "  '2025-01-30T10:00',\n",
       "  '2025-01-30T11:00',\n",
       "  '2025-01-30T12:00',\n",
       "  '2025-01-30T13:00',\n",
       "  '2025-01-30T14:00',\n",
       "  '2025-01-30T15:00',\n",
       "  '2025-01-30T16:00',\n",
       "  '2025-01-30T17:00',\n",
       "  '2025-01-30T18:00',\n",
       "  '2025-01-30T19:00',\n",
       "  '2025-01-30T20:00',\n",
       "  '2025-01-30T21:00',\n",
       "  '2025-01-30T22:00',\n",
       "  '2025-01-30T23:00',\n",
       "  '2025-01-31T00:00',\n",
       "  '2025-01-31T01:00',\n",
       "  '2025-01-31T02:00',\n",
       "  '2025-01-31T03:00',\n",
       "  '2025-01-31T04:00',\n",
       "  '2025-01-31T05:00',\n",
       "  '2025-01-31T06:00',\n",
       "  '2025-01-31T07:00',\n",
       "  '2025-01-31T08:00',\n",
       "  '2025-01-31T09:00',\n",
       "  '2025-01-31T10:00',\n",
       "  '2025-01-31T11:00',\n",
       "  '2025-01-31T12:00',\n",
       "  '2025-01-31T13:00',\n",
       "  '2025-01-31T14:00',\n",
       "  '2025-01-31T15:00',\n",
       "  '2025-01-31T16:00',\n",
       "  '2025-01-31T17:00',\n",
       "  '2025-01-31T18:00',\n",
       "  '2025-01-31T19:00',\n",
       "  '2025-01-31T20:00',\n",
       "  '2025-01-31T21:00',\n",
       "  '2025-01-31T22:00',\n",
       "  '2025-01-31T23:00',\n",
       "  '2025-02-01T00:00',\n",
       "  '2025-02-01T01:00',\n",
       "  '2025-02-01T02:00',\n",
       "  '2025-02-01T03:00',\n",
       "  '2025-02-01T04:00',\n",
       "  '2025-02-01T05:00',\n",
       "  '2025-02-01T06:00',\n",
       "  '2025-02-01T07:00',\n",
       "  '2025-02-01T08:00',\n",
       "  '2025-02-01T09:00',\n",
       "  '2025-02-01T10:00',\n",
       "  '2025-02-01T11:00',\n",
       "  '2025-02-01T12:00',\n",
       "  '2025-02-01T13:00',\n",
       "  '2025-02-01T14:00',\n",
       "  '2025-02-01T15:00',\n",
       "  '2025-02-01T16:00',\n",
       "  '2025-02-01T17:00',\n",
       "  '2025-02-01T18:00',\n",
       "  '2025-02-01T19:00',\n",
       "  '2025-02-01T20:00',\n",
       "  '2025-02-01T21:00',\n",
       "  '2025-02-01T22:00',\n",
       "  '2025-02-01T23:00',\n",
       "  '2025-02-02T00:00',\n",
       "  '2025-02-02T01:00',\n",
       "  '2025-02-02T02:00',\n",
       "  '2025-02-02T03:00',\n",
       "  '2025-02-02T04:00',\n",
       "  '2025-02-02T05:00',\n",
       "  '2025-02-02T06:00',\n",
       "  '2025-02-02T07:00',\n",
       "  '2025-02-02T08:00',\n",
       "  '2025-02-02T09:00',\n",
       "  '2025-02-02T10:00',\n",
       "  '2025-02-02T11:00',\n",
       "  '2025-02-02T12:00',\n",
       "  '2025-02-02T13:00',\n",
       "  '2025-02-02T14:00',\n",
       "  '2025-02-02T15:00',\n",
       "  '2025-02-02T16:00',\n",
       "  '2025-02-02T17:00',\n",
       "  '2025-02-02T18:00',\n",
       "  '2025-02-02T19:00',\n",
       "  '2025-02-02T20:00',\n",
       "  '2025-02-02T21:00',\n",
       "  '2025-02-02T22:00',\n",
       "  '2025-02-02T23:00',\n",
       "  '2025-02-03T00:00',\n",
       "  '2025-02-03T01:00',\n",
       "  '2025-02-03T02:00',\n",
       "  '2025-02-03T03:00',\n",
       "  '2025-02-03T04:00',\n",
       "  '2025-02-03T05:00',\n",
       "  '2025-02-03T06:00',\n",
       "  '2025-02-03T07:00',\n",
       "  '2025-02-03T08:00',\n",
       "  '2025-02-03T09:00',\n",
       "  '2025-02-03T10:00',\n",
       "  '2025-02-03T11:00',\n",
       "  '2025-02-03T12:00',\n",
       "  '2025-02-03T13:00',\n",
       "  '2025-02-03T14:00',\n",
       "  '2025-02-03T15:00',\n",
       "  '2025-02-03T16:00',\n",
       "  '2025-02-03T17:00',\n",
       "  '2025-02-03T18:00',\n",
       "  '2025-02-03T19:00',\n",
       "  '2025-02-03T20:00',\n",
       "  '2025-02-03T21:00',\n",
       "  '2025-02-03T22:00',\n",
       "  '2025-02-03T23:00'],\n",
       " 'temperature_2m': [8.4,\n",
       "  7.9,\n",
       "  7.5,\n",
       "  6.9,\n",
       "  6.7,\n",
       "  6.3,\n",
       "  6.0,\n",
       "  5.7,\n",
       "  5.8,\n",
       "  6.6,\n",
       "  7.4,\n",
       "  8.1,\n",
       "  8.6,\n",
       "  8.4,\n",
       "  8.2,\n",
       "  7.8,\n",
       "  7.4,\n",
       "  7.1,\n",
       "  6.8,\n",
       "  6.6,\n",
       "  6.6,\n",
       "  6.2,\n",
       "  5.5,\n",
       "  5.2,\n",
       "  4.9,\n",
       "  4.7,\n",
       "  4.6,\n",
       "  4.4,\n",
       "  4.4,\n",
       "  4.3,\n",
       "  4.3,\n",
       "  4.5,\n",
       "  4.8,\n",
       "  5.6,\n",
       "  6.4,\n",
       "  7.3,\n",
       "  8.5,\n",
       "  9.4,\n",
       "  9.2,\n",
       "  8.6,\n",
       "  8.1,\n",
       "  7.4,\n",
       "  7.2,\n",
       "  6.7,\n",
       "  6.4,\n",
       "  6.1,\n",
       "  5.4,\n",
       "  5.0,\n",
       "  4.4,\n",
       "  4.6,\n",
       "  3.8,\n",
       "  3.3,\n",
       "  2.7,\n",
       "  2.5,\n",
       "  2.4,\n",
       "  2.6,\n",
       "  3.1,\n",
       "  3.9,\n",
       "  5.1,\n",
       "  6.1,\n",
       "  7.2,\n",
       "  7.7,\n",
       "  8.1,\n",
       "  7.9,\n",
       "  7.3,\n",
       "  6.8,\n",
       "  6.5,\n",
       "  6.2,\n",
       "  5.8,\n",
       "  5.6,\n",
       "  5.5,\n",
       "  5.4,\n",
       "  5.3,\n",
       "  4.9,\n",
       "  4.5,\n",
       "  4.1,\n",
       "  3.7,\n",
       "  3.3,\n",
       "  3.1,\n",
       "  3.4,\n",
       "  3.9,\n",
       "  4.5,\n",
       "  4.9,\n",
       "  5.4,\n",
       "  5.7,\n",
       "  5.8,\n",
       "  5.7,\n",
       "  5.4,\n",
       "  4.8,\n",
       "  4.0,\n",
       "  3.3,\n",
       "  2.6,\n",
       "  2.0,\n",
       "  1.5,\n",
       "  1.2,\n",
       "  1.0,\n",
       "  0.8,\n",
       "  0.7,\n",
       "  0.5,\n",
       "  0.4,\n",
       "  0.3,\n",
       "  0.1,\n",
       "  0.1,\n",
       "  0.2,\n",
       "  0.5,\n",
       "  0.9,\n",
       "  1.5,\n",
       "  2.3,\n",
       "  2.9,\n",
       "  3.4,\n",
       "  3.8,\n",
       "  3.9,\n",
       "  3.7,\n",
       "  3.3,\n",
       "  3.0,\n",
       "  1.1,\n",
       "  0.7,\n",
       "  0.4,\n",
       "  0.1,\n",
       "  -0.3,\n",
       "  -0.5,\n",
       "  -0.7,\n",
       "  -0.8,\n",
       "  -0.9,\n",
       "  -1.2,\n",
       "  -1.5,\n",
       "  -1.7,\n",
       "  -1.7,\n",
       "  -1.5,\n",
       "  -1.0,\n",
       "  -0.0,\n",
       "  1.2,\n",
       "  2.1,\n",
       "  2.4,\n",
       "  2.3,\n",
       "  2.1,\n",
       "  1.8,\n",
       "  1.3,\n",
       "  0.8,\n",
       "  0.6,\n",
       "  0.4,\n",
       "  0.2,\n",
       "  0.0,\n",
       "  -0.1,\n",
       "  -0.3,\n",
       "  -0.6,\n",
       "  -0.8,\n",
       "  -1.0,\n",
       "  -1.2,\n",
       "  -1.4,\n",
       "  -1.5,\n",
       "  -1.4,\n",
       "  -1.1,\n",
       "  -0.6,\n",
       "  0.2,\n",
       "  1.3,\n",
       "  2.0,\n",
       "  2.2,\n",
       "  2.1,\n",
       "  1.9,\n",
       "  1.6,\n",
       "  1.3,\n",
       "  0.9,\n",
       "  0.7,\n",
       "  0.6,\n",
       "  0.5,\n",
       "  0.4,\n",
       "  0.3],\n",
       " 'relative_humidity_2m': [86,\n",
       "  86,\n",
       "  86,\n",
       "  88,\n",
       "  89,\n",
       "  89,\n",
       "  90,\n",
       "  91,\n",
       "  90,\n",
       "  86,\n",
       "  83,\n",
       "  80,\n",
       "  79,\n",
       "  83,\n",
       "  86,\n",
       "  89,\n",
       "  92,\n",
       "  94,\n",
       "  94,\n",
       "  94,\n",
       "  92,\n",
       "  94,\n",
       "  94,\n",
       "  92,\n",
       "  91,\n",
       "  90,\n",
       "  90,\n",
       "  90,\n",
       "  89,\n",
       "  89,\n",
       "  89,\n",
       "  88,\n",
       "  86,\n",
       "  84,\n",
       "  82,\n",
       "  78,\n",
       "  71,\n",
       "  64,\n",
       "  62,\n",
       "  64,\n",
       "  68,\n",
       "  75,\n",
       "  72,\n",
       "  79,\n",
       "  81,\n",
       "  81,\n",
       "  86,\n",
       "  88,\n",
       "  90,\n",
       "  86,\n",
       "  89,\n",
       "  88,\n",
       "  89,\n",
       "  89,\n",
       "  88,\n",
       "  87,\n",
       "  84,\n",
       "  79,\n",
       "  74,\n",
       "  71,\n",
       "  66,\n",
       "  65,\n",
       "  64,\n",
       "  67,\n",
       "  71,\n",
       "  74,\n",
       "  75,\n",
       "  76,\n",
       "  80,\n",
       "  82,\n",
       "  83,\n",
       "  83,\n",
       "  84,\n",
       "  85,\n",
       "  87,\n",
       "  89,\n",
       "  92,\n",
       "  94,\n",
       "  96,\n",
       "  96,\n",
       "  95,\n",
       "  92,\n",
       "  87,\n",
       "  80,\n",
       "  75,\n",
       "  73,\n",
       "  73,\n",
       "  74,\n",
       "  77,\n",
       "  81,\n",
       "  85,\n",
       "  87,\n",
       "  89,\n",
       "  90,\n",
       "  91,\n",
       "  91,\n",
       "  91,\n",
       "  91,\n",
       "  92,\n",
       "  92,\n",
       "  92,\n",
       "  93,\n",
       "  93,\n",
       "  93,\n",
       "  93,\n",
       "  92,\n",
       "  91,\n",
       "  90,\n",
       "  89,\n",
       "  87,\n",
       "  85,\n",
       "  84,\n",
       "  85,\n",
       "  88,\n",
       "  90,\n",
       "  83,\n",
       "  84,\n",
       "  85,\n",
       "  85,\n",
       "  85,\n",
       "  85,\n",
       "  85,\n",
       "  84,\n",
       "  84,\n",
       "  84,\n",
       "  85,\n",
       "  85,\n",
       "  85,\n",
       "  84,\n",
       "  82,\n",
       "  78,\n",
       "  73,\n",
       "  70,\n",
       "  70,\n",
       "  73,\n",
       "  75,\n",
       "  77,\n",
       "  78,\n",
       "  80,\n",
       "  81,\n",
       "  82,\n",
       "  83,\n",
       "  84,\n",
       "  84,\n",
       "  85,\n",
       "  86,\n",
       "  88,\n",
       "  89,\n",
       "  90,\n",
       "  92,\n",
       "  92,\n",
       "  92,\n",
       "  91,\n",
       "  88,\n",
       "  82,\n",
       "  74,\n",
       "  69,\n",
       "  68,\n",
       "  70,\n",
       "  72,\n",
       "  73,\n",
       "  73,\n",
       "  74,\n",
       "  76,\n",
       "  78,\n",
       "  79,\n",
       "  79,\n",
       "  78],\n",
       " 'wind_speed_10m': [11.4,\n",
       "  8.4,\n",
       "  10.3,\n",
       "  9.7,\n",
       "  9.4,\n",
       "  10.1,\n",
       "  8.6,\n",
       "  8.9,\n",
       "  9.1,\n",
       "  7.4,\n",
       "  6.1,\n",
       "  4.4,\n",
       "  6.0,\n",
       "  4.8,\n",
       "  4.6,\n",
       "  4.1,\n",
       "  5.5,\n",
       "  4.9,\n",
       "  5.5,\n",
       "  5.5,\n",
       "  7.1,\n",
       "  7.3,\n",
       "  7.8,\n",
       "  8.7,\n",
       "  9.1,\n",
       "  9.4,\n",
       "  10.2,\n",
       "  11.0,\n",
       "  11.7,\n",
       "  11.7,\n",
       "  11.7,\n",
       "  12.7,\n",
       "  12.6,\n",
       "  14.9,\n",
       "  15.3,\n",
       "  16.1,\n",
       "  17.3,\n",
       "  19.2,\n",
       "  18.5,\n",
       "  17.5,\n",
       "  13.2,\n",
       "  14.8,\n",
       "  14.4,\n",
       "  11.2,\n",
       "  12.2,\n",
       "  10.7,\n",
       "  10.4,\n",
       "  10.1,\n",
       "  8.9,\n",
       "  7.4,\n",
       "  8.0,\n",
       "  7.0,\n",
       "  7.2,\n",
       "  6.8,\n",
       "  6.5,\n",
       "  6.2,\n",
       "  7.0,\n",
       "  7.4,\n",
       "  8.1,\n",
       "  7.9,\n",
       "  9.0,\n",
       "  9.0,\n",
       "  8.7,\n",
       "  7.0,\n",
       "  6.1,\n",
       "  6.5,\n",
       "  6.2,\n",
       "  5.5,\n",
       "  4.8,\n",
       "  4.6,\n",
       "  4.3,\n",
       "  4.0,\n",
       "  3.6,\n",
       "  4.0,\n",
       "  4.0,\n",
       "  4.4,\n",
       "  4.9,\n",
       "  5.5,\n",
       "  6.0,\n",
       "  6.3,\n",
       "  6.6,\n",
       "  7.1,\n",
       "  7.4,\n",
       "  8.3,\n",
       "  8.7,\n",
       "  9.2,\n",
       "  9.4,\n",
       "  9.0,\n",
       "  7.4,\n",
       "  5.1,\n",
       "  4.5,\n",
       "  4.2,\n",
       "  4.1,\n",
       "  4.0,\n",
       "  4.0,\n",
       "  4.5,\n",
       "  4.8,\n",
       "  5.2,\n",
       "  5.7,\n",
       "  5.7,\n",
       "  5.6,\n",
       "  5.1,\n",
       "  4.7,\n",
       "  4.7,\n",
       "  4.4,\n",
       "  4.4,\n",
       "  4.3,\n",
       "  4.3,\n",
       "  4.7,\n",
       "  4.8,\n",
       "  4.7,\n",
       "  5.0,\n",
       "  5.0,\n",
       "  4.7,\n",
       "  4.4,\n",
       "  4.0,\n",
       "  4.0,\n",
       "  4.1,\n",
       "  3.8,\n",
       "  3.6,\n",
       "  3.2,\n",
       "  3.2,\n",
       "  2.9,\n",
       "  2.9,\n",
       "  2.9,\n",
       "  2.9,\n",
       "  2.9,\n",
       "  2.5,\n",
       "  2.2,\n",
       "  1.8,\n",
       "  2.1,\n",
       "  2.8,\n",
       "  3.1,\n",
       "  2.6,\n",
       "  1.9,\n",
       "  1.8,\n",
       "  1.8,\n",
       "  1.6,\n",
       "  1.8,\n",
       "  1.5,\n",
       "  0.8,\n",
       "  0.8,\n",
       "  1.0,\n",
       "  1.6,\n",
       "  2.3,\n",
       "  2.4,\n",
       "  2.3,\n",
       "  2.5,\n",
       "  2.3,\n",
       "  1.9,\n",
       "  2.2,\n",
       "  2.5,\n",
       "  2.9,\n",
       "  3.2,\n",
       "  3.3,\n",
       "  3.9,\n",
       "  3.9,\n",
       "  3.1,\n",
       "  1.8,\n",
       "  1.3,\n",
       "  1.9,\n",
       "  3.0,\n",
       "  3.9,\n",
       "  4.6,\n",
       "  5.9,\n",
       "  6.9,\n",
       "  7.9,\n",
       "  8.4]}"
      ]
     },
     "execution_count": 15,
     "metadata": {},
     "output_type": "execute_result"
    }
   ],
   "source": [
    "data[\"hourly\"]"
   ]
  },
  {
   "cell_type": "code",
   "execution_count": 16,
   "metadata": {},
   "outputs": [
    {
     "data": {
      "text/html": [
       "<div>\n",
       "<style scoped>\n",
       "    .dataframe tbody tr th:only-of-type {\n",
       "        vertical-align: middle;\n",
       "    }\n",
       "\n",
       "    .dataframe tbody tr th {\n",
       "        vertical-align: top;\n",
       "    }\n",
       "\n",
       "    .dataframe thead th {\n",
       "        text-align: right;\n",
       "    }\n",
       "</style>\n",
       "<table border=\"1\" class=\"dataframe\">\n",
       "  <thead>\n",
       "    <tr style=\"text-align: right;\">\n",
       "      <th></th>\n",
       "      <th>time</th>\n",
       "      <th>temperature_2m</th>\n",
       "      <th>relative_humidity_2m</th>\n",
       "      <th>wind_speed_10m</th>\n",
       "    </tr>\n",
       "  </thead>\n",
       "  <tbody>\n",
       "    <tr>\n",
       "      <th>0</th>\n",
       "      <td>2025-01-28T00:00</td>\n",
       "      <td>8.4</td>\n",
       "      <td>86</td>\n",
       "      <td>11.4</td>\n",
       "    </tr>\n",
       "    <tr>\n",
       "      <th>1</th>\n",
       "      <td>2025-01-28T01:00</td>\n",
       "      <td>7.9</td>\n",
       "      <td>86</td>\n",
       "      <td>8.4</td>\n",
       "    </tr>\n",
       "    <tr>\n",
       "      <th>2</th>\n",
       "      <td>2025-01-28T02:00</td>\n",
       "      <td>7.5</td>\n",
       "      <td>86</td>\n",
       "      <td>10.3</td>\n",
       "    </tr>\n",
       "    <tr>\n",
       "      <th>3</th>\n",
       "      <td>2025-01-28T03:00</td>\n",
       "      <td>6.9</td>\n",
       "      <td>88</td>\n",
       "      <td>9.7</td>\n",
       "    </tr>\n",
       "    <tr>\n",
       "      <th>4</th>\n",
       "      <td>2025-01-28T04:00</td>\n",
       "      <td>6.7</td>\n",
       "      <td>89</td>\n",
       "      <td>9.4</td>\n",
       "    </tr>\n",
       "  </tbody>\n",
       "</table>\n",
       "</div>"
      ],
      "text/plain": [
       "               time  temperature_2m  relative_humidity_2m  wind_speed_10m\n",
       "0  2025-01-28T00:00             8.4                    86            11.4\n",
       "1  2025-01-28T01:00             7.9                    86             8.4\n",
       "2  2025-01-28T02:00             7.5                    86            10.3\n",
       "3  2025-01-28T03:00             6.9                    88             9.7\n",
       "4  2025-01-28T04:00             6.7                    89             9.4"
      ]
     },
     "execution_count": 16,
     "metadata": {},
     "output_type": "execute_result"
    }
   ],
   "source": [
    "df = pd.DataFrame(data[\"hourly\"])\n",
    "df.head()"
   ]
  },
  {
   "cell_type": "code",
   "execution_count": 17,
   "metadata": {},
   "outputs": [
    {
     "data": {
      "text/html": [
       "<div>\n",
       "<style scoped>\n",
       "    .dataframe tbody tr th:only-of-type {\n",
       "        vertical-align: middle;\n",
       "    }\n",
       "\n",
       "    .dataframe tbody tr th {\n",
       "        vertical-align: top;\n",
       "    }\n",
       "\n",
       "    .dataframe thead th {\n",
       "        text-align: right;\n",
       "    }\n",
       "</style>\n",
       "<table border=\"1\" class=\"dataframe\">\n",
       "  <thead>\n",
       "    <tr style=\"text-align: right;\">\n",
       "      <th></th>\n",
       "      <th>time</th>\n",
       "      <th>temperature_2m</th>\n",
       "      <th>relative_humidity_2m</th>\n",
       "      <th>wind_speed_10m</th>\n",
       "    </tr>\n",
       "  </thead>\n",
       "  <tbody>\n",
       "    <tr>\n",
       "      <th>0</th>\n",
       "      <td>2025-01-28 00:00:00</td>\n",
       "      <td>8.4</td>\n",
       "      <td>86</td>\n",
       "      <td>11.4</td>\n",
       "    </tr>\n",
       "    <tr>\n",
       "      <th>1</th>\n",
       "      <td>2025-01-28 01:00:00</td>\n",
       "      <td>7.9</td>\n",
       "      <td>86</td>\n",
       "      <td>8.4</td>\n",
       "    </tr>\n",
       "    <tr>\n",
       "      <th>2</th>\n",
       "      <td>2025-01-28 02:00:00</td>\n",
       "      <td>7.5</td>\n",
       "      <td>86</td>\n",
       "      <td>10.3</td>\n",
       "    </tr>\n",
       "    <tr>\n",
       "      <th>3</th>\n",
       "      <td>2025-01-28 03:00:00</td>\n",
       "      <td>6.9</td>\n",
       "      <td>88</td>\n",
       "      <td>9.7</td>\n",
       "    </tr>\n",
       "    <tr>\n",
       "      <th>4</th>\n",
       "      <td>2025-01-28 04:00:00</td>\n",
       "      <td>6.7</td>\n",
       "      <td>89</td>\n",
       "      <td>9.4</td>\n",
       "    </tr>\n",
       "  </tbody>\n",
       "</table>\n",
       "</div>"
      ],
      "text/plain": [
       "                 time  temperature_2m  relative_humidity_2m  wind_speed_10m\n",
       "0 2025-01-28 00:00:00             8.4                    86            11.4\n",
       "1 2025-01-28 01:00:00             7.9                    86             8.4\n",
       "2 2025-01-28 02:00:00             7.5                    86            10.3\n",
       "3 2025-01-28 03:00:00             6.9                    88             9.7\n",
       "4 2025-01-28 04:00:00             6.7                    89             9.4"
      ]
     },
     "execution_count": 17,
     "metadata": {},
     "output_type": "execute_result"
    }
   ],
   "source": [
    "df['time'] = pd.to_datetime(df['time'])\n",
    "df.head()"
   ]
  },
  {
   "cell_type": "code",
   "execution_count": 18,
   "metadata": {},
   "outputs": [
    {
     "data": {
      "text/plain": [
       "Text(0, 0.5, 'Temperature')"
      ]
     },
     "execution_count": 18,
     "metadata": {},
     "output_type": "execute_result"
    },
    {
     "data": {
      "image/png": "[encoded data removed]",
      "text/plain": [
       "<Figure size 640x480 with 1 Axes>"
      ]
     },
     "metadata": {},
     "output_type": "display_data"
    }
   ],
   "source": [
    "# Graficar la temperatura\n",
    "plt.plot(df['time'], df['temperature_2m'])\n",
    "plt.xticks(rotation=45) \n",
    "plt.title('Temperature 2m')\n",
    "plt.xlabel('Time')\n",
    "plt.ylabel('Temperature')"
   ]
  },
  {
   "cell_type": "code",
   "execution_count": 19,
   "metadata": {},
   "outputs": [
    {
     "data": {
      "text/plain": [
       "Text(0, 0.5, 'humidity')"
      ]
     },
     "execution_count": 19,
     "metadata": {},
     "output_type": "execute_result"
    },
    {
     "data": {
      "image/png": "[encoded data removed]",
      "text/plain": [
       "<Figure size 640x480 with 1 Axes>"
      ]
     },
     "metadata": {},
     "output_type": "display_data"
    }
   ],
   "source": [
    "# Graficar la humedad\n",
    "plt.plot(df['time'], df['relative_humidity_2m'])\n",
    "plt.xticks(rotation=45) \n",
    "plt.title('relative humidity 2m')\n",
    "plt.xlabel('Time')\n",
    "plt.ylabel('humidity')"
   ]
  },
  {
   "cell_type": "code",
   "execution_count": 20,
   "metadata": {},
   "outputs": [
    {
     "data": {
      "text/plain": [
       "Text(0, 0.5, 'wind speed')"
      ]
     },
     "execution_count": 20,
     "metadata": {},
     "output_type": "execute_result"
    },
    {
     "data": {
      "image/png": "[encoded data removed]",
      "text/plain": [
       "<Figure size 640x480 with 1 Axes>"
      ]
     },
     "metadata": {},
     "output_type": "display_data"
    }
   ],
   "source": [
    "# Graficar la temperatura\n",
    "plt.plot(df['time'], df['wind_speed_10m'])\n",
    "plt.xticks(rotation=45) \n",
    "plt.title('wind speed 10m')\n",
    "plt.xlabel('Time')\n",
    "plt.ylabel('wind speed')"
   ]
  },
  {
   "cell_type": "code",
   "execution_count": 22,
   "metadata": {},
   "outputs": [
    {
     "data": {
      "text/plain": [
       "True"
      ]
     },
     "execution_count": 22,
     "metadata": {},
     "output_type": "execute_result"
    }
   ],
   "source": [
    "load_dotenv()"
   ]
  },
  {
   "cell_type": "code",
   "execution_count": 23,
   "metadata": {},
   "outputs": [],
   "source": [
    "llm = ChatGroq(model_name=\"llama3-8b-8192\")"
   ]
  },
  {
   "cell_type": "code",
   "execution_count": 24,
   "metadata": {},
   "outputs": [],
   "source": [
    "message = [\n",
    "    (\"system\", \"you are a helpful assistant that translates  English to Spanish. Translate the user sentence\"),\n",
    "    (\"human\", \"I love programming in Python\")\n",
    "]"
   ]
  },
  {
   "cell_type": "code",
   "execution_count": 26,
   "metadata": {},
   "outputs": [
    {
     "name": "stdout",
     "output_type": "stream",
     "text": [
      "content='Me encanta programar en Python' additional_kwargs={} response_metadata={'token_usage': {'completion_tokens': 8, 'prompt_tokens': 36, 'total_tokens': 44, 'completion_time': 0.006666667, 'prompt_time': 0.005356592, 'queue_time': 0.019928117, 'total_time': 0.012023259}, 'model_name': 'llama3-8b-8192', 'system_fingerprint': 'fp_a97cfe35ae', 'finish_reason': 'stop', 'logprobs': None} id='run-648fd771-65e6-4745-ab73-788101f6af15-0' usage_metadata={'input_tokens': 36, 'output_tokens': 8, 'total_tokens': 44}\n"
     ]
    }
   ],
   "source": [
    "msg_llm = llm.invoke(message)\n",
    "print(msg_llm)"
   ]
  },
  {
   "cell_type": "code",
   "execution_count": 30,
   "metadata": {},
   "outputs": [
    {
     "data": {
      "text/plain": [
       "<Response [200]>"
      ]
     },
     "execution_count": 30,
     "metadata": {},
     "output_type": "execute_result"
    }
   ],
   "source": [
    "url = \"https://api.groq.com/openai/v1/chat/completions\" #API endpoint\n",
    "api_key = os.getenv(\"GROQ_API_KEY\")\n",
    "headers = {\n",
    "    \"Content-Type\": \"application/json\",\n",
    "    \"Authorization\": f\"Bearer {api_key}\"\n",
    "}\n",
    "\n",
    "data = {\n",
    "    \"model\": \"llama3-8b-8192\",\n",
    "    \"messages\": [\n",
    "        {\n",
    "            \"role\": \"user\",\n",
    "            \"content\": \"Who are the Beatles?\"\n",
    "        }\n",
    "    ]\n",
    "}\n",
    "response = requests.post(url, headers=headers, json=data)\n",
    "response"
   ]
  },
  {
   "cell_type": "code",
   "execution_count": 31,
   "metadata": {},
   "outputs": [
    {
     "name": "stdout",
     "output_type": "stream",
     "text": [
      "{'id': 'chatcmpl-56397878-b4cb-4e0e-9f32-cd331c3ed3ff', 'object': 'chat.completion', 'created': 1738036864, 'model': 'llama3-8b-8192', 'choices': [{'index': 0, 'message': {'role': 'assistant', 'content': 'What a question!\\n\\nThe Beatles were a British rock band that formed in Liverpool, England in 1960. They are widely regarded as one of the most influential and successful bands in the history of popular music. The group consisted of four members:\\n\\n1. John Lennon (1940-1980) - rhythm guitar, keyboards, harmonica, and vocals\\n2. Paul McCartney (born 1942) - bass guitar, piano, keyboards, and vocals\\n3. George Harrison (1943-2001) - lead guitar, keyboards, and vocals\\n4. Ringo Starr (born 1940) - drums, percussion, and vocals\\n\\nThe Beatles are often credited with changing the course of popular music, influencing countless other artists, and contributing to the cultural and social upheaval of the 1960s. They are known for their unique blend of rock, pop, folk, and classical music, as well as their innovative songwriting, harmony vocals, and musical arrangements.\\n\\nThe Beatles released 12 studio albums, 13 EPs, and 22 singles during their active career. Some of their most famous songs include:\\n\\n* \"I Want to Hold Your Hand\"\\n* \"Yesterday\"\\n* \"Hey Jude\"\\n* \"Let It Be\"\\n* \"Sgt. Pepper\\'s Lonely Hearts Club Band\"\\n* \"Revolution\"\\n* \"Yellow Submarine\"\\n* \"Strawberry Fields Forever\"\\n* \"Penny Lane\"\\n* \"All You Need is Love\"\\n\\nThe Beatles\\' impact on music and culture extends far beyond their own music. They played a significant role in shaping the development of popular music, inspiring new genres and styles, and influencing the work of countless other artists.\\n\\nIn recognition of their immense contributions, the Beatles were inducted into the Rock and Roll Hall of Fame in 1988. They have sold more than a billion records worldwide, making them one of the best-selling music artists of all time.'}, 'logprobs': None, 'finish_reason': 'stop'}], 'usage': {'queue_time': 0.021519279000000002, 'prompt_tokens': 15, 'prompt_time': 0.00242576, 'completion_tokens': 390, 'completion_time': 0.325, 'total_tokens': 405, 'total_time': 0.32742576}, 'system_fingerprint': 'fp_179b0f92c9', 'x_groq': {'id': 'req_01jjnh3s85ffpb34q7c816hg7q'}}\n"
     ]
    }
   ],
   "source": [
    "response_data = response.json()\n",
    "print(response_data)"
   ]
  }
 ],
 "metadata": {
  "kernelspec": {
   "display_name": ".venv",
   "language": "python",
   "name": "python3"
  },
  "language_info": {
   "codemirror_mode": {
    "name": "ipython",
    "version": 3
   },
   "file_extension": ".py",
   "mimetype": "text/x-python",
   "name": "python",
   "nbconvert_exporter": "python",
   "pygments_lexer": "ipython3",
   "version": "3.12.1"
  }
 },
 "nbformat": 4,
 "nbformat_minor": 2
}
