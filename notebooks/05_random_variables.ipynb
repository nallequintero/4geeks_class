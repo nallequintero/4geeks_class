{
 "cells": [
  {
   "cell_type": "code",
   "execution_count": 1,
   "metadata": {},
   "outputs": [],
   "source": [
    "import numpy as np\n",
    "import matplotlib.pyplot as plt\n",
    "import pandas as pd\n",
    "import random"
   ]
  },
  {
   "cell_type": "code",
   "execution_count": 2,
   "metadata": {},
   "outputs": [],
   "source": [
    "# Hay una ruleta en un casino. La ruleta tiene 18 espacios rojos, 18 espacios negros, y 2 espacios verdes\n",
    "# Al girar la ruleta si sale rojo, el apostador gana 1$, caso contrario el apostador pierde 1$ \n",
    "# Desde la vista del casino, si sale rojo el casino pierde 1$ y caso contrario el casino gana 1$\n",
    "ruleta = [\"rojo\"]*18 + [\"negro\"]*18 + [\"verde\"]*2\n",
    "\n",
    "# Simular 1000 extraciones \n",
    "# Cuanto gana o pierde el casino al terminar el experimento?\n",
    "# Si sale negro y verde el casino gana 1$, si sale rojo pierde 1$"
   ]
  },
  {
   "cell_type": "code",
   "execution_count": 3,
   "metadata": {},
   "outputs": [
    {
     "name": "stdout",
     "output_type": "stream",
     "text": [
      "el casino gana : 94\n"
     ]
    }
   ],
   "source": [
    "ruleta = [\"rojo\"]*18 + [\"negro\"]*18 + [\"verde\"]*2\n",
    "\n",
    "n_extraciones = 1000\n",
    "contador_1 = 0 # suma cuando sale negro y verde\n",
    "contador_2 = 0 # suma cuando sale rojo\n",
    "\n",
    "for i in range(n_extraciones):\n",
    "  # guardo el resultado aleatorio\n",
    "  resultados = random.choice(ruleta)\n",
    "  # establezco la condicion de ganar para sumarle al contador\n",
    "  if (resultados == \"negro\") | (resultados == \"verde\"):\n",
    "    contador_1 += 1\n",
    "  else:\n",
    "    # de lo contrario sumo al contador de perder\n",
    "    contador_2 += 1\n",
    "\n",
    "res = contador_1 - contador_2\n",
    "if (res > 0):\n",
    "  print (f'el casino gana : {res}')\n",
    "else:\n",
    "  print (f'el casino pierde: {res}')"
   ]
  },
  {
   "cell_type": "code",
   "execution_count": 4,
   "metadata": {},
   "outputs": [
    {
     "name": "stdout",
     "output_type": "stream",
     "text": [
      "70\n"
     ]
    }
   ],
   "source": [
    "# otra forma de hacerlo\n",
    "dinero_casino = 0 \n",
    "for _ in range(1000):\n",
    "  giros =  random.choice(ruleta)\n",
    "\n",
    "  if giros == \"rojo\":\n",
    "    dinero_casino -= 1\n",
    "  else:\n",
    "    dinero_casino += 1\n",
    "\n",
    "print(dinero_casino)"
   ]
  },
  {
   "cell_type": "code",
   "execution_count": 5,
   "metadata": {},
   "outputs": [],
   "source": [
    "def roullete_spin(spins=1000, roullete=ruleta):\n",
    "  earnings = 0\n",
    "  for _ in range(spins):\n",
    "    results =  random.choice(ruleta)\n",
    "\n",
    "    if results == \"rojo\":\n",
    "      earnings += 1\n",
    "    else:\n",
    "      earnings -= 1\n",
    "\n",
    "  return earnings"
   ]
  },
  {
   "cell_type": "code",
   "execution_count": 6,
   "metadata": {},
   "outputs": [
    {
     "data": {
      "text/plain": [
       "-32"
      ]
     },
     "execution_count": 6,
     "metadata": {},
     "output_type": "execute_result"
    }
   ],
   "source": [
    "roullete_spin()"
   ]
  },
  {
   "cell_type": "code",
   "execution_count": 7,
   "metadata": {},
   "outputs": [],
   "source": [
    "# Sampling model:\n",
    "samplings = []\n",
    "for _ in range(10000):\n",
    "  samplings.append(roullete_spin()) #lista donde se almacenan los resultados\n"
   ]
  },
  {
   "cell_type": "code",
   "execution_count": 8,
   "metadata": {},
   "outputs": [
    {
     "data": {
      "image/png": "[encoded data removed]",
      "text/plain": [
       "<Figure size 640x480 with 1 Axes>"
      ]
     },
     "metadata": {},
     "output_type": "display_data"
    }
   ],
   "source": [
    "plt.hist(samplings, bins=20)\n",
    "plt.show()"
   ]
  },
  {
   "cell_type": "code",
   "execution_count": 9,
   "metadata": {},
   "outputs": [
    {
     "data": {
      "text/plain": [
       "np.float64(31.171277137133796)"
      ]
     },
     "execution_count": 9,
     "metadata": {},
     "output_type": "execute_result"
    }
   ],
   "source": [
    "# standar error\n",
    "std = np.std(samplings)\n",
    "std\n"
   ]
  },
  {
   "cell_type": "code",
   "execution_count": 10,
   "metadata": {},
   "outputs": [
    {
     "data": {
      "text/plain": [
       "10000"
      ]
     },
     "execution_count": 10,
     "metadata": {},
     "output_type": "execute_result"
    }
   ],
   "source": [
    "n =  len(samplings)\n",
    "n"
   ]
  },
  {
   "cell_type": "code",
   "execution_count": 11,
   "metadata": {},
   "outputs": [
    {
     "data": {
      "text/plain": [
       "np.float64(0.31171277137133796)"
      ]
     },
     "execution_count": 11,
     "metadata": {},
     "output_type": "execute_result"
    }
   ],
   "source": [
    "# Standar error =\n",
    "std / np.sqrt(n)"
   ]
  },
  {
   "cell_type": "markdown",
   "metadata": {},
   "source": [
    "Es una distribucion de probabilidad discreta de una variable aleatoria que toma el valor de 1 con probabilidad p y el valor 0 con probabilidad 1 - p.\n",
    "\n",
    "Un ejemplo basico es el lanzamiento de una moneda donde p es 0.5 para cara ( 1)y para sello (0). E[X] = 0.5 y VAR[X] = 0.25\n",
    "\n",
    "El segundo ejemplo es obtener 5 o 6 en un lanzamiento de dado, donde acertar (1) tiene probabilidad de 1/3. y la probabilidad de 0 es 2/3. E[x] = 1/3 y la VAR[X] = 2/6 * 4/6\n",
    "\n",
    "El valor esperado E[X] es p y la varianza VAR[X] es igual a p*(1-p)"
   ]
  },
  {
   "cell_type": "markdown",
   "metadata": {},
   "source": [
    "Distribucion binomial: es una distribucion de probabilida discreta del numero de exitos en una secuencia de n experimentos independientes bernoulli. El exito tiene probabilidad p y el fracaso 1-p"
   ]
  },
  {
   "cell_type": "markdown",
   "metadata": {},
   "source": [
    "Probabilidad de sacar 3 caras  de un lanzamiento de monedas, cada lanzamiento de moneda es un evento bernoulli independiente de los otros lanzamientos."
   ]
  },
  {
   "cell_type": "markdown",
   "metadata": {},
   "source": [
    "$ P(X=k) = {n\\choose k} p^k*(1-p)^{n-k} $\n",
    "$ {n\\choose k} = n!/(k! * n-k!)\n",
    "$ n! = n*(n-1)*(n-2) ...*1"
   ]
  },
  {
   "cell_type": "markdown",
   "metadata": {},
   "source": [
    "El valor esperado de la distribucion binomial E[X] =  n*p y VAR[X] = n*p *(1-p)"
   ]
  },
  {
   "cell_type": "code",
   "execution_count": 12,
   "metadata": {},
   "outputs": [
    {
     "data": {
      "image/png": "[encoded data removed]",
      "text/plain": [
       "<Figure size 640x480 with 1 Axes>"
      ]
     },
     "metadata": {},
     "output_type": "display_data"
    }
   ],
   "source": [
    "from scipy.stats import binom\n",
    "n , p = 4 , 0.5\n",
    "rv = binom(n,p)\n",
    "\n",
    "from scipy.stats import binom\n",
    "import matplotlib.pyplot as plt\n",
    "import numpy as np\n",
    "\n",
    "n , p = 4 , 0.5\n",
    "rv = binom(n,p)\n",
    "fig, ax = plt.subplots(1,1)\n",
    "x = np.arange(binom.ppf(0.01,n,p), binom.ppf(0.99,n,p))\n",
    "ax.plot(x, binom.pmf(x,n,p), \"bo\", ms=8, label= \"funcion de probabilidad masa\")\n",
    "ax.vlines(x, 0, binom.pmf(x,n,p), colors=\"b\", lw=5, alpha = 0.5)\n",
    "plt.show()"
   ]
  },
  {
   "cell_type": "markdown",
   "metadata": {},
   "source": [
    "Poisson distribution: es una distribucion de probabilidad discreta que expresa la probabilidad de que un numero dade de eventos ocurra en un intervalo fijo de tiempo a una tasa media constante(lambda)\n",
    "\n",
    "E[X] = lambda  y VAR[X] = lambda"
   ]
  },
  {
   "cell_type": "markdown",
   "metadata": {},
   "source": []
  },
  {
   "cell_type": "markdown",
   "metadata": {},
   "source": [
    "normal distribution: es una probabilidad de distribucion continua para una variable aleatoria en el espacio continuo y esta representada por su media \"mu\" y su desviacion estandar \"sigma\"\n"
   ]
  },
  {
   "cell_type": "markdown",
   "metadata": {},
   "source": [
    "$$ P(X = \\mu\\sigma) = \\frac{1}{\\sqrt{2\\pi\\sigma^2}} * e^{\\frac{-(x-\\mu)^2}{2\\sigma^2}} $$"
   ]
  }
 ],
 "metadata": {
  "kernelspec": {
   "display_name": ".venv",
   "language": "python",
   "name": "python3"
  },
  "language_info": {
   "codemirror_mode": {
    "name": "ipython",
    "version": 3
   },
   "file_extension": ".py",
   "mimetype": "text/x-python",
   "name": "python",
   "nbconvert_exporter": "python",
   "pygments_lexer": "ipython3",
   "version": "3.12.1"
  }
 },
 "nbformat": 4,
 "nbformat_minor": 2
}
