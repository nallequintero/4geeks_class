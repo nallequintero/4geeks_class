{
 "cells": [
  {
   "cell_type": "code",
   "execution_count": 1,
   "metadata": {},
   "outputs": [],
   "source": [
    "import numpy as np\n",
    "import matplotlib.pyplot as plt\n",
    "import pandas as pd\n",
    "import random"
   ]
  },
  {
   "cell_type": "code",
   "execution_count": 2,
   "metadata": {},
   "outputs": [],
   "source": [
    "# Hay una ruleta en un casino. La ruleta tiene 18 espacios rojos, 18 espacios negros, y 2 espacios verdes\n",
    "# Al girar la ruleta si sale rojo, el apostador gana 1$, caso contrario el apostador pierde 1$ \n",
    "# Desde la vista del casino, si sale rojo el casino pierde 1$ y caso contrario el casino gana 1$\n",
    "ruleta = [\"rojo\"]*18 + [\"negro\"]*18 + [\"verde\"]*2\n",
    "\n",
    "# Simular 1000 extraciones \n",
    "# Cuanto gana o pierde el casino al terminar el experimento?\n",
    "# Si sale negro y verde el casino gana 1$, si sale rojo pierde 1$"
   ]
  },
  {
   "cell_type": "code",
   "execution_count": 6,
   "metadata": {},
   "outputs": [
    {
     "name": "stdout",
     "output_type": "stream",
     "text": [
      "el casino gana : 84\n"
     ]
    }
   ],
   "source": [
    "ruleta = [\"rojo\"]*18 + [\"negro\"]*18 + [\"verde\"]*2\n",
    "\n",
    "n_extraciones = 1000\n",
    "contador_1 = 0 # suma cuando sale negro y verde\n",
    "contador_2 = 0 # suma cuando sale rojo\n",
    "\n",
    "for i in range(n_extraciones):\n",
    "  # guardo el resultado aleatorio\n",
    "  resultados = random.choice(ruleta)\n",
    "  # establezco la condicion de ganar para sumarle al contador\n",
    "  if (resultados == \"negro\") | (resultados == \"verde\"):\n",
    "    contador_1 += 1\n",
    "  else:\n",
    "    # de lo contrario sumo al contador de perder\n",
    "    contador_2 += 1\n",
    "\n",
    "res = contador_1 - contador_2\n",
    "if (res > 0):\n",
    "  print (f'el casino gana : {res}')\n",
    "else:\n",
    "  print (f'el casino pierde: {res}')"
   ]
  },
  {
   "cell_type": "code",
   "execution_count": 5,
   "metadata": {},
   "outputs": [
    {
     "name": "stdout",
     "output_type": "stream",
     "text": [
      "102\n"
     ]
    }
   ],
   "source": [
    "# otra forma de hacerlo\n",
    "dinero_casino = 0 \n",
    "for _ in range(1000):\n",
    "  giros =  random.choice(ruleta)\n",
    "\n",
    "  if giros == \"rojo\":\n",
    "    dinero_casino -= 1\n",
    "  else:\n",
    "    dinero_casino += 1\n",
    "\n",
    "print(dinero_casino)"
   ]
  },
  {
   "cell_type": "code",
   "execution_count": 7,
   "metadata": {},
   "outputs": [],
   "source": [
    "def roullete_spin(spins=1000, roullete=ruleta):\n",
    "  earnings = 0\n",
    "  for _ in range(spins):\n",
    "    results =  random.choice(ruleta)\n",
    "\n",
    "    if results == \"rojo\":\n",
    "      earnings += 1\n",
    "    else:\n",
    "      earnings -= 1\n",
    "\n",
    "  return earnings"
   ]
  },
  {
   "cell_type": "code",
   "execution_count": 10,
   "metadata": {},
   "outputs": [
    {
     "data": {
      "text/plain": [
       "4"
      ]
     },
     "execution_count": 10,
     "metadata": {},
     "output_type": "execute_result"
    }
   ],
   "source": [
    "roullete_spin()"
   ]
  },
  {
   "cell_type": "code",
   "execution_count": 15,
   "metadata": {},
   "outputs": [],
   "source": [
    "# Sampling model:\n",
    "samplings = []\n",
    "for _ in range(10000):\n",
    "  samplings.append(roullete_spin()) #lista donde se almacenan los resultados\n"
   ]
  },
  {
   "cell_type": "code",
   "execution_count": 16,
   "metadata": {},
   "outputs": [
    {
     "data": {
      "image/png": "[encoded data removed]",
      "text/plain": [
       "<Figure size 640x480 with 1 Axes>"
      ]
     },
     "metadata": {},
     "output_type": "display_data"
    }
   ],
   "source": [
    "plt.hist(samplings, bins=20)\n",
    "plt.show()"
   ]
  },
  {
   "cell_type": "code",
   "execution_count": 17,
   "metadata": {},
   "outputs": [
    {
     "data": {
      "text/plain": [
       "np.float64(31.48755860907606)"
      ]
     },
     "execution_count": 17,
     "metadata": {},
     "output_type": "execute_result"
    }
   ],
   "source": [
    "# standar error\n",
    "std = np.std(samplings)\n",
    "std\n"
   ]
  },
  {
   "cell_type": "code",
   "execution_count": 18,
   "metadata": {},
   "outputs": [
    {
     "data": {
      "text/plain": [
       "10000"
      ]
     },
     "execution_count": 18,
     "metadata": {},
     "output_type": "execute_result"
    }
   ],
   "source": [
    "n =  len(samplings)\n",
    "n"
   ]
  },
  {
   "cell_type": "code",
   "execution_count": 19,
   "metadata": {},
   "outputs": [
    {
     "data": {
      "text/plain": [
       "np.float64(0.3148755860907606)"
      ]
     },
     "execution_count": 19,
     "metadata": {},
     "output_type": "execute_result"
    }
   ],
   "source": [
    "# Standar error =\n",
    "std / np.sqrt(n)"
   ]
  },
  {
   "cell_type": "code",
   "execution_count": null,
   "metadata": {},
   "outputs": [],
   "source": []
  }
 ],
 "metadata": {
  "kernelspec": {
   "display_name": ".venv",
   "language": "python",
   "name": "python3"
  },
  "language_info": {
   "codemirror_mode": {
    "name": "ipython",
    "version": 3
   },
   "file_extension": ".py",
   "mimetype": "text/x-python",
   "name": "python",
   "nbconvert_exporter": "python",
   "pygments_lexer": "ipython3",
   "version": "3.12.1"
  }
 },
 "nbformat": 4,
 "nbformat_minor": 2
}
