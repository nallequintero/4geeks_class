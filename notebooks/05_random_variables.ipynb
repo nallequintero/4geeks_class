{
 "cells": [
  {
   "cell_type": "code",
   "execution_count": 3,
   "metadata": {},
   "outputs": [],
   "source": [
    "import numpy as np\n",
    "import matplotlib.pyplot as plt\n",
    "import pandas as pd\n",
    "import random"
   ]
  },
  {
   "cell_type": "code",
   "execution_count": null,
   "metadata": {},
   "outputs": [],
   "source": [
    "# Hay una ruleta en un casino. La ruleta tiene 18 espacios rojos, 18 espacios negros, y 2 espacios verdes\n",
    "# Al girar la ruleta si sale rojo, el apostador gana 1$, caso contrario el apostador pierde 1$ \n",
    "# Desde la vista del casino, si sale rojo el casino pierde 1$ y caso contrario el casino gana 1$\n",
    "ruleta = [\"rojo\"]*18 + [\"negro\"]*18 + [\"verde\"]*2\n",
    "\n",
    "# Simular 1000 extraciones \n",
    "# Cuanto gana o pierde el casino al terminar el experimento?\n",
    "# Si sale negro y verde el casino gana 1$, si sale rojo pierde 1$"
   ]
  },
  {
   "cell_type": "code",
   "execution_count": 53,
   "metadata": {},
   "outputs": [
    {
     "name": "stdout",
     "output_type": "stream",
     "text": [
      "532\n",
      "468\n",
      "el casino gana : 532\n"
     ]
    }
   ],
   "source": [
    "ruleta = [\"rojo\"]*18 + [\"negro\"]*18 + [\"verde\"]*2\n",
    "\n",
    "n_extraciones = 1000\n",
    "contador_1 = 0 # suma cuando sale negro y verde\n",
    "contador_2 = 0 # suma cuando sale rojo\n",
    "\n",
    "for i in range(n_extraciones):\n",
    "  # guardo el resultado aleatorio\n",
    "  resultados = random.choice(ruleta)\n",
    "  # establezco la condicion de ganar para sumarle al contador\n",
    "  if (resultados == \"negro\") | (resultados == \"verde\"):\n",
    "    contador_1 += 1\n",
    "  else:\n",
    "    # de lo contrario sumo al contador de perder\n",
    "    contador_2 += 1\n",
    "\n",
    "if (contador_1 > contador_2):\n",
    "  print (f'el casino gana : {contador_1}')\n",
    "else:\n",
    "  print (f'el casino pierde: {contador_2}')"
   ]
  }
 ],
 "metadata": {
  "kernelspec": {
   "display_name": ".venv",
   "language": "python",
   "name": "python3"
  },
  "language_info": {
   "codemirror_mode": {
    "name": "ipython",
    "version": 3
   },
   "file_extension": ".py",
   "mimetype": "text/x-python",
   "name": "python",
   "nbconvert_exporter": "python",
   "pygments_lexer": "ipython3",
   "version": "3.12.1"
  }
 },
 "nbformat": 4,
 "nbformat_minor": 2
}
